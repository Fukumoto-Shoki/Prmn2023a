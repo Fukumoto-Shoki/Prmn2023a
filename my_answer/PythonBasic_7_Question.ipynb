{
  "nbformat": 4,
  "nbformat_minor": 0,
  "metadata": {
    "colab": {
      "provenance": [],
      "include_colab_link": true
    },
    "kernelspec": {
      "name": "python3",
      "display_name": "Python 3"
    },
    "language_info": {
      "name": "python"
    }
  },
  "cells": [
    {
      "cell_type": "markdown",
      "metadata": {
        "id": "view-in-github",
        "colab_type": "text"
      },
      "source": [
        "<a href=\"https://colab.research.google.com/github/Fukumoto-Shoki/Prmn2023a/blob/main/my_answer/PythonBasic_7_Question.ipynb\" target=\"_parent\"><img src=\"https://colab.research.google.com/assets/colab-badge.svg\" alt=\"Open In Colab\"/></a>"
      ]
    },
    {
      "cell_type": "markdown",
      "source": [
        "# 第7章 課題"
      ],
      "metadata": {
        "id": "JR-0wWX5GOz4"
      }
    },
    {
      "cell_type": "markdown",
      "source": [
        "## 課題1"
      ],
      "metadata": {
        "id": "a-2Yu9QBGREf"
      }
    },
    {
      "cell_type": "markdown",
      "source": [
        "`ppap.txt`をアップロードしてください。  \n",
        "\n",
        "ピコ太郎さんの「PPAP」という歌の歌詞が書かれています。  \n",
        "まずはこのテキストファイルから歌詞を読み込んでください。"
      ],
      "metadata": {
        "id": "icanGSBB6KCB"
      }
    },
    {
      "cell_type": "markdown",
      "source": [
        "歌詞の単語の登場回数を数え、  \n",
        "出現回数の多い順にソートしたディクショナリを関数で返してください\n",
        "\n",
        "その後、そのディクショナリを出力してください"
      ],
      "metadata": {
        "id": "Wy8Sx90f6WTB"
      }
    },
    {
      "cell_type": "markdown",
      "source": [
        "＜実行結果＞  \n",
        "``` py\n",
        "{'pen': 8, 'i': 4, 'have': 4, 'apple': 4, 'pineapple': 4, 'a': 3, 'ppap': 1, 'an': 1}\n",
        "```"
      ],
      "metadata": {
        "id": "0Z2-_1dAQENU"
      }
    },
    {
      "cell_type": "code",
      "source": [
        "# 入力用（テキスト読み込み）\n",
        "\n",
        "with open(\"ppap.txt\",mode=\"r+\") as f:\n",
        "  lines = f.read().splitlines()\n",
        "  print(lines)"
      ],
      "metadata": {
        "id": "5DzB6nze6d65",
        "outputId": "91e9a074-9854-41c8-aa8b-129114cdacdc",
        "colab": {
          "base_uri": "https://localhost:8080/"
        }
      },
      "execution_count": 46,
      "outputs": [
        {
          "output_type": "stream",
          "name": "stdout",
          "text": [
            "['PPAP', 'I have a pen.', 'I have an apple.', 'Apple pen！', 'I have a pen.', 'I have a pineapple.', 'Pineapple pen！', 'Apple pen.', 'Pineapple pen.', 'Pen-pineapple-Apple-pen！']\n"
          ]
        }
      ]
    },
    {
      "cell_type": "code",
      "source": [
        "# 入力用（カウントとメイン部分）\n",
        "\n",
        "import string\n",
        "\n",
        "def word_count(text):\n",
        "  text = text.replace('！', '')\n",
        "  text = text.replace('-', ' ')\n",
        "  text = text.translate(str.maketrans('', '', string.punctuation))\n",
        "  text = text.lower().split()\n",
        "\n",
        "  count_dic={}\n",
        "\n",
        "  for item in text:\n",
        "    count_dic[item]=count_dic.get(item,0)+1\n",
        "\n",
        "  sorted_dic=dict(sorted(count_dic.items(),key=lambda x:x[1],reverse=True))\n",
        "\n",
        "  return sorted_dic\n",
        "\n",
        "text=\"\\n\".join(lines)\n",
        "sorted_dic = word_count(text)\n",
        "print(sorted_dic)"
      ],
      "metadata": {
        "id": "NHsFskbC6fzq",
        "outputId": "c9041aa5-6e8a-4f0d-ac33-96f251c361d0",
        "colab": {
          "base_uri": "https://localhost:8080/"
        }
      },
      "execution_count": 47,
      "outputs": [
        {
          "output_type": "stream",
          "name": "stdout",
          "text": [
            "{'pen': 8, 'i': 4, 'have': 4, 'apple': 4, 'pineapple': 4, 'a': 3, 'ppap': 1, 'an': 1}\n"
          ]
        }
      ]
    },
    {
      "cell_type": "markdown",
      "source": [
        "## 課題2"
      ],
      "metadata": {
        "id": "dSQu_cY6EpMk"
      }
    },
    {
      "cell_type": "markdown",
      "source": [
        "`toukei_seiseki.txt`をアップロードしてください。\n",
        "\n",
        "とある人の統計学の成績データになります。"
      ],
      "metadata": {
        "id": "b-ekHtnVEwsO"
      }
    },
    {
      "cell_type": "markdown",
      "source": [
        "成績評価を0~5の6段階でつけたいものとします。  \n",
        "\n",
        "|成績|点数|\n",
        "|:---| :--- |\n",
        "|$A$|5|\n",
        "|$B^{+}$|4|\n",
        "|$B$|3|\n",
        "|$B^{-}$|2|\n",
        "|$C^{+}$|1|\n",
        "|$C$|0|\n"
      ],
      "metadata": {
        "id": "L3i6Z8xg9eHr"
      }
    },
    {
      "cell_type": "markdown",
      "source": [
        "上表のように成績を変換する関数を作成してください  "
      ],
      "metadata": {
        "id": "EdC2oqvr9eHs"
      }
    },
    {
      "cell_type": "markdown",
      "source": [
        "この科目は、「5×全15回=最大点75点」に、  \n",
        "「全14回×50点=最大点700点を25点に圧縮したもの」の和によって成績判定を行います。"
      ],
      "metadata": {
        "id": "CbT-Ni7g9eHs"
      }
    },
    {
      "cell_type": "markdown",
      "source": [
        "適切に関数を使い、以下のデータの成績評価を行えるようにしてください\n",
        "\n",
        "\n"
      ],
      "metadata": {
        "id": "lrIoPU8b9eHs"
      }
    },
    {
      "cell_type": "markdown",
      "source": [
        "＜例＞  \n",
        "小テストの合計点は600点だったので25点満点に圧縮すると21.42点  \n",
        "課題は全て$B^+$評価だったので4×15=60点  \n",
        "合計点81.42点なので評定は「優」"
      ],
      "metadata": {
        "id": "-QKViYIF9eHt"
      }
    },
    {
      "cell_type": "code",
      "source": [
        "# 入力用\n",
        "\n",
        "seiseki_data = {\"課題\":[],\"小テスト\":[]}\n",
        "\n",
        "with open(\"toukei_seiseki.txt\",mode=\"r+\") as f:\n",
        "  lines = f.read().splitlines()\n",
        "\n",
        "for line in lines[2:]:\n",
        "  data = line.strip().split('\\t')\n",
        "  seiseki_data[\"課題\"].append(data[1])\n",
        "  if len(data)==3:\n",
        "    seiseki_data[\"小テスト\"].append(int(data[2]))\n",
        "\n",
        "def seiseki(x):\n",
        "  points={'A':5,'B+':4,'B':3,'B-':2,'C+':1,'C':0}\n",
        "  return points[x]\n",
        "\n",
        "kadai=0\n",
        "for i in seiseki_data['課題']:\n",
        "  kadai=kadai+seiseki(i)\n",
        "\n",
        "test=(sum(seiseki_data['小テスト'])/700)*25\n",
        "\n",
        "total=kadai+test\n",
        "\n",
        "if total>=90:\n",
        "  kekka='秀'\n",
        "elif total>=80:\n",
        "  kekka='優'\n",
        "elif total>=70:\n",
        "  kekka='良'\n",
        "elif total>=60:\n",
        "  kekka='可'\n",
        "else:\n",
        "  kekka='不可'\n",
        "\n",
        "print(f'評定: {kekka}')"
      ],
      "metadata": {
        "id": "vZ1lU1LLGX2j",
        "outputId": "82a656fc-13cd-4653-a446-689e4de9611e",
        "colab": {
          "base_uri": "https://localhost:8080/"
        }
      },
      "execution_count": 48,
      "outputs": [
        {
          "output_type": "stream",
          "name": "stdout",
          "text": [
            "評定: 秀\n"
          ]
        }
      ]
    },
    {
      "cell_type": "code",
      "source": [
        "# 参考 成績データの空ディクショナリ\n",
        "test_data = {\"課題\":[],\"小テスト\":[]}"
      ],
      "metadata": {
        "id": "B6heQ-a8Fk2C"
      },
      "execution_count": null,
      "outputs": []
    },
    {
      "cell_type": "markdown",
      "source": [
        "### 課題2 補足"
      ],
      "metadata": {
        "id": "E8ZRqBlkGW2D"
      }
    },
    {
      "cell_type": "markdown",
      "source": [
        "文字列を置換したいときは**`replace`メソッド**を使います。  \n",
        "\n",
        "複数回行いたいときは`replace`メソッドを複数回続けます。"
      ],
      "metadata": {
        "id": "s4IPiuNZGd96"
      }
    },
    {
      "cell_type": "code",
      "source": [
        "hantei_list = [\"60\",\"70\",\"80\",\"90\"]\n",
        "kekka_list = []\n",
        "\n",
        "\"\"\"\n",
        "リストから要素を取り出して指定の値を置換する\n",
        "\"\"\"\n",
        "for hantei in hantei_list:\n",
        "  hantei = hantei.replace(\"60\",\"可\").replace(\"70\",\"良\").replace(\"80\",\"優\").replace(\"90\",\"秀\")\n",
        "  kekka_list.append(hantei)\n",
        "\n",
        "print(kekka_list)"
      ],
      "metadata": {
        "id": "83OyhJkDGupg"
      },
      "execution_count": null,
      "outputs": []
    },
    {
      "cell_type": "markdown",
      "source": [
        "## 課題3"
      ],
      "metadata": {
        "id": "ImanFioRIU6F"
      }
    },
    {
      "cell_type": "markdown",
      "source": [
        "`all_seiseki.txt`をアップロードしてください。\n",
        "\n",
        "とある人の2年春学期までの成績データになります。"
      ],
      "metadata": {
        "id": "9Q_HBLgfIXVf"
      }
    },
    {
      "cell_type": "markdown",
      "source": [
        "GPAを計算したいものとします。  \n",
        "成績に付与されるGPは以下の通りです。\n",
        "\n",
        "|成績|GP|\n",
        "|:---| :--- |\n",
        "|秀|4|\n",
        "|優|3|\n",
        "|良|2|\n",
        "|可|1|\n",
        "|不可|0|"
      ],
      "metadata": {
        "id": "wimEVJZUMWoL"
      }
    },
    {
      "cell_type": "markdown",
      "source": [
        "上表のように成績を変換する関数を作成してください"
      ],
      "metadata": {
        "id": "vLfMefKLNZsq"
      }
    },
    {
      "cell_type": "markdown",
      "source": [
        "GPAの計算式は以下の通りです。  \n",
        "$$\n",
        "GPA = \\frac{(GP×そのGPの単位数) の合計}{履修単位数}\n",
        "$$"
      ],
      "metadata": {
        "id": "pJ-Cltm9NbZ6"
      }
    },
    {
      "cell_type": "markdown",
      "source": [
        "適切に関数を使い、テキストデータのGPAを算出してください"
      ],
      "metadata": {
        "id": "k_jm9pzkOFAw"
      }
    },
    {
      "cell_type": "code",
      "source": [
        "# 入力用\n",
        "\n",
        "one_unit_class = []\n",
        "seiseki_data = {\"授業\":[],\"成績\":[]}\n",
        "\n",
        "with open(\"all_seiseki.txt\",mode=\"r+\") as f:\n",
        "  lines = f.read().splitlines()\n",
        "\n",
        "for line in lines[1:]:\n",
        "  data = line.strip().split('\\t')\n",
        "  if data[5]=='1':\n",
        "    one_unit_class.append(data[3])\n",
        "  seiseki_data[\"授業\"].append(data[3])\n",
        "  seiseki_data[\"成績\"].append(data[4])\n",
        "\n",
        "def gpa(x):\n",
        "  points={'秀':4,'優':3,'良':2,'可':1,'不可':0}\n",
        "  return points[x]\n",
        "\n",
        "total_gpa=0\n",
        "count=0\n",
        "for i in range(len(seiseki_data['授業'])):\n",
        "\n",
        "  point=gpa(seiseki_data['成績'][i])\n",
        "\n",
        "  if seiseki_data['授業'][i] in one_unit_class:\n",
        "    total_gpa+=(point*1)\n",
        "    count+=1\n",
        "  else:\n",
        "    total_gpa+=(point*2)\n",
        "    count+=2\n",
        "\n",
        "print(f'評定: {total_gpa/count}')"
      ],
      "metadata": {
        "id": "4_KjT73rJAkT",
        "outputId": "a6b20385-4f08-430f-e175-080b7c1b3190",
        "colab": {
          "base_uri": "https://localhost:8080/"
        }
      },
      "execution_count": 45,
      "outputs": [
        {
          "output_type": "stream",
          "name": "stdout",
          "text": [
            "評定: 3.262295081967213\n"
          ]
        }
      ]
    },
    {
      "cell_type": "code",
      "source": [
        "# 参考 1単位の授業をまとめたリスト\n",
        "one_unit_class = []"
      ],
      "metadata": {
        "id": "LiCCAoDqJA5r"
      },
      "execution_count": null,
      "outputs": []
    },
    {
      "cell_type": "code",
      "source": [
        "# 参考 成績データの空ディクショナリ\n",
        "seiseki_data = {\"授業\":[],\"成績\":[]}"
      ],
      "metadata": {
        "id": "AUVzFPP1JJlO"
      },
      "execution_count": null,
      "outputs": []
    }
  ]
}