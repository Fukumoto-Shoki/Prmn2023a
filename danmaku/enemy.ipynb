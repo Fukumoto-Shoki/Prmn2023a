{
  "nbformat": 4,
  "nbformat_minor": 0,
  "metadata": {
    "colab": {
      "provenance": [],
      "authorship_tag": "ABX9TyOFDbAWiEZncWh8CpSlBsz7",
      "include_colab_link": true
    },
    "kernelspec": {
      "name": "python3",
      "display_name": "Python 3"
    },
    "language_info": {
      "name": "python"
    }
  },
  "cells": [
    {
      "cell_type": "markdown",
      "metadata": {
        "id": "view-in-github",
        "colab_type": "text"
      },
      "source": [
        "<a href=\"https://colab.research.google.com/github/Fukumoto-Shoki/Prmn2023a/blob/main/danmaku/enemy.ipynb\" target=\"_parent\"><img src=\"https://colab.research.google.com/assets/colab-badge.svg\" alt=\"Open In Colab\"/></a>"
      ]
    },
    {
      "cell_type": "code",
      "execution_count": null,
      "metadata": {
        "id": "sl6ifXHnQ02U"
      },
      "outputs": [],
      "source": [
        "import pygame\n",
        "from setting import *\n",
        "import random\n",
        "\n",
        "class Enemy(pygame.sprite.Sprite):\n",
        "    def __init__(self, groups, x, y):\n",
        "        super().__init__(groups)\n",
        "\n",
        "        #画像\n",
        "        self.image = pygame.Surface((20, 20))\n",
        "        color = random.randint(1,3)\n",
        "        if color == 1:\n",
        "            self.image.fill(BLUE)\n",
        "        elif color == 2:\n",
        "            self.image.fill(YELLOW)\n",
        "        elif color == 3:\n",
        "            self.image.fill(GREEN)\n",
        "        self.rect = self.image.get_rect(center = (x, y))\n",
        "\n",
        "\n",
        "        #移動\n",
        "        move_list = [1, -1]\n",
        "        self.direction = pygame.math.Vector2((random.choice(move_list), 1))\n",
        "        if color == 1:\n",
        "            self.speed = 3\n",
        "        elif color == 2:\n",
        "            self.speed = 4\n",
        "        elif color ==3:\n",
        "            self.speed = 5\n",
        "        self.timer = 0\n",
        "\n",
        "    def move(self):\n",
        "        move_list = [1, -1]\n",
        "        self.timer += 1\n",
        "        if self.timer > 20:\n",
        "            self.direction.x *= random.choice(move_list)\n",
        "            self.timer = 0\n",
        "\n",
        "        self.rect.x += self.direction.x * self.speed\n",
        "        if self.rect.x < 0:\n",
        "            self.rect.x = 0\n",
        "        elif self.rect.x > 580:\n",
        "            self.rect.x = 580\n",
        "        self.rect.y += self.direction.y * self.speed\n",
        "\n",
        "    def check_off_screen(self):\n",
        "        if self.rect.top > screen_height:\n",
        "            self.kill()\n",
        "\n",
        "\n",
        "    def update(self):\n",
        "        self.move()\n",
        "        self.check_off_screen()"
      ]
    }
  ]
}