{
  "nbformat": 4,
  "nbformat_minor": 0,
  "metadata": {
    "colab": {
      "provenance": [],
      "authorship_tag": "ABX9TyOg2eWxfzbAhuq6C4RP4U/D",
      "include_colab_link": true
    },
    "kernelspec": {
      "name": "python3",
      "display_name": "Python 3"
    },
    "language_info": {
      "name": "python"
    }
  },
  "cells": [
    {
      "cell_type": "markdown",
      "metadata": {
        "id": "view-in-github",
        "colab_type": "text"
      },
      "source": [
        "<a href=\"https://colab.research.google.com/github/Fukumoto-Shoki/Prmn2023a/blob/main/danmaku/support.ipynb\" target=\"_parent\"><img src=\"https://colab.research.google.com/assets/colab-badge.svg\" alt=\"Open In Colab\"/></a>"
      ]
    },
    {
      "cell_type": "code",
      "execution_count": null,
      "metadata": {
        "id": "gVvurGXERdJN"
      },
      "outputs": [],
      "source": [
        "import pygame\n",
        "\n",
        "def draw_text(screen, txt, x, y, size, color):\n",
        "    font = pygame.font.Font(None, size)\n",
        "    surface = font.render(txt, True, color)\n",
        "    x = x - surface.get_width() / 2\n",
        "    y = y - surface.get_height() / 2\n",
        "    screen.blit(surface, (x, y))"
      ]
    }
  ]
}