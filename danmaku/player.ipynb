{
  "nbformat": 4,
  "nbformat_minor": 0,
  "metadata": {
    "colab": {
      "provenance": [],
      "authorship_tag": "ABX9TyMj+83Ru7V0hiNV/x6HeFpV",
      "include_colab_link": true
    },
    "kernelspec": {
      "name": "python3",
      "display_name": "Python 3"
    },
    "language_info": {
      "name": "python"
    }
  },
  "cells": [
    {
      "cell_type": "markdown",
      "metadata": {
        "id": "view-in-github",
        "colab_type": "text"
      },
      "source": [
        "<a href=\"https://colab.research.google.com/github/Fukumoto-Shoki/Prmn2023a/blob/main/danmaku/player.ipynb\" target=\"_parent\"><img src=\"https://colab.research.google.com/assets/colab-badge.svg\" alt=\"Open In Colab\"/></a>"
      ]
    },
    {
      "cell_type": "code",
      "execution_count": null,
      "metadata": {
        "id": "qAQKDsYTQmcO"
      },
      "outputs": [],
      "source": [
        "import pygame\n",
        "from setting import *\n",
        "\n",
        "class Player(pygame.sprite.Sprite):\n",
        "\n",
        "    def __init__(self, groups, x, y, enemy_group):\n",
        "        super().__init__(groups)\n",
        "\n",
        "        self.enemy_group = enemy_group\n",
        "\n",
        "        #画像\n",
        "        self.image = pygame.Surface((50, 50))\n",
        "        self.image.fill(RED)\n",
        "        self.rect = self.image.get_rect(center = (x, y))\n",
        "\n",
        "        #移動\n",
        "        self.direction = pygame.math.Vector2()\n",
        "        self.speed = 7\n",
        "\n",
        "        #体力\n",
        "        self.health = 1\n",
        "        self.alive = True\n",
        "\n",
        "    def input(self):\n",
        "        key = pygame.key.get_pressed()\n",
        "\n",
        "        if key[pygame.K_w]:\n",
        "            self.direction.y = -1\n",
        "        elif key[pygame.K_s]:\n",
        "            self.direction.y = 1\n",
        "        else:\n",
        "            self.direction.y = 0\n",
        "\n",
        "        if key[pygame.K_a]:\n",
        "            self.direction.x = -1\n",
        "            self.index = 1\n",
        "        elif key[pygame.K_d]:\n",
        "            self.direction.x = 1\n",
        "            self.index = 2\n",
        "        else:\n",
        "            self.direction.x = 0\n",
        "            self.index = 0\n",
        "\n",
        "    def move(self):\n",
        "        if self.direction.magnitude() != 0:\n",
        "            self.direction.normalize()\n",
        "\n",
        "        self.rect.x += self.direction.x * self.speed\n",
        "        self.check_off_screen('horizontal')\n",
        "        self.rect.y += self.direction.y * self.speed\n",
        "        self.check_off_screen('vertical')\n",
        "\n",
        "    def check_off_screen(self, direction):\n",
        "        if direction == 'horizontal':\n",
        "            if self.rect.left < 0:\n",
        "                self.rect.left = 0\n",
        "            if self.rect.right > screen_width:\n",
        "                self.rect.right = screen_width\n",
        "\n",
        "        if direction == 'vertical':\n",
        "            if self.rect.top < 0:\n",
        "                self.rect.top = 0\n",
        "            if self.rect.bottom > screen_height:\n",
        "                self.rect.bottom = screen_height\n",
        "\n",
        "    def collision_enemy(self):\n",
        "        for enemy in self.enemy_group:\n",
        "            if self.rect.colliderect(enemy.rect):\n",
        "                self.health -= 1\n",
        "\n",
        "        if self.health <= 0:\n",
        "            self.alive = False\n",
        "\n",
        "    def check_death(self):\n",
        "        if self.alive == False:\n",
        "            self.kill()\n",
        "\n",
        "\n",
        "    def update(self):\n",
        "        self.input()\n",
        "        self.move()\n",
        "        self.collision_enemy()\n",
        "        self.check_death()"
      ]
    }
  ]
}