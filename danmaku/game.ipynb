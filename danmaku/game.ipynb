{
  "nbformat": 4,
  "nbformat_minor": 0,
  "metadata": {
    "colab": {
      "provenance": [],
      "authorship_tag": "ABX9TyMVcn0Y2Xug+tuNAPRC0d73",
      "include_colab_link": true
    },
    "kernelspec": {
      "name": "python3",
      "display_name": "Python 3"
    },
    "language_info": {
      "name": "python"
    }
  },
  "cells": [
    {
      "cell_type": "markdown",
      "metadata": {
        "id": "view-in-github",
        "colab_type": "text"
      },
      "source": [
        "<a href=\"https://colab.research.google.com/github/Fukumoto-Shoki/Prmn2023a/blob/main/danmaku/game.ipynb\" target=\"_parent\"><img src=\"https://colab.research.google.com/assets/colab-badge.svg\" alt=\"Open In Colab\"/></a>"
      ]
    },
    {
      "cell_type": "code",
      "execution_count": null,
      "metadata": {
        "id": "HjBg4ddbQP9G"
      },
      "outputs": [],
      "source": [
        "import pygame\n",
        "from setting import *\n",
        "from player import Player\n",
        "from enemy import Enemy\n",
        "import random\n",
        "from support import draw_text\n",
        "\n",
        "class Game:\n",
        "\n",
        "    def __init__(self):\n",
        "        self.screen = pygame.display.get_surface()\n",
        "\n",
        "        #グループの作成\n",
        "        self.create_group()\n",
        "\n",
        "        #自機\n",
        "        self.player = Player(self.player_group, 300, 500,self.enemy_group)\n",
        "\n",
        "        #敵\n",
        "        self.timer = 0\n",
        "\n",
        "        #ゲームオーバー\n",
        "        self.game_over = False\n",
        "\n",
        "\n",
        "    def create_group(self):\n",
        "        self.player_group = pygame.sprite.GroupSingle()\n",
        "        self.enemy_group = pygame.sprite.Group()\n",
        "\n",
        "\n",
        "    def create_enemy(self):\n",
        "        self.timer += 1\n",
        "        if self.timer > 20:\n",
        "            enemy = Enemy(self.enemy_group, random.randint(50, 550), random.randint(0, 50))\n",
        "            self.timer = 0\n",
        "\n",
        "    def player_death(self):\n",
        "        if len(self.player_group) == 0:\n",
        "            self.game_over = True\n",
        "            draw_text(self.screen, 'GAME OVER', screen_width // 2, screen_height // 2, 100, RED)\n",
        "            draw_text(self.screen, 'please SPACE KEY', screen_width // 2, screen_height // 2 + 100, 50, RED)\n",
        "\n",
        "    def reset(self):\n",
        "        key = pygame.key.get_pressed()\n",
        "        if self.game_over and key[pygame.K_SPACE]:\n",
        "            self.player = Player(self.player_group, 300, 500,self.enemy_group)\n",
        "            self.enemy_group.empty()\n",
        "            self.game_over = False\n",
        "\n",
        "\n",
        "    def run(self):\n",
        "\n",
        "        self.create_enemy()\n",
        "\n",
        "        self.player_death()\n",
        "        self.reset()\n",
        "\n",
        "        #グループの描画と更新\n",
        "        self.player_group.draw(self.screen)\n",
        "        self.player_group.update()\n",
        "        self.enemy_group.draw(self.screen)\n",
        "        self.enemy_group.update()\n"
      ]
    }
  ]
}