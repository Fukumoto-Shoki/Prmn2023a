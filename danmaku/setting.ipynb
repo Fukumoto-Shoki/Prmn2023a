{
  "nbformat": 4,
  "nbformat_minor": 0,
  "metadata": {
    "colab": {
      "provenance": [],
      "authorship_tag": "ABX9TyO3PLVAE9GaD2F6bS+jqpq1",
      "include_colab_link": true
    },
    "kernelspec": {
      "name": "python3",
      "display_name": "Python 3"
    },
    "language_info": {
      "name": "python"
    }
  },
  "cells": [
    {
      "cell_type": "markdown",
      "metadata": {
        "id": "view-in-github",
        "colab_type": "text"
      },
      "source": [
        "<a href=\"https://colab.research.google.com/github/Fukumoto-Shoki/Prmn2023a/blob/main/danmaku/setting.ipynb\" target=\"_parent\"><img src=\"https://colab.research.google.com/assets/colab-badge.svg\" alt=\"Open In Colab\"/></a>"
      ]
    },
    {
      "cell_type": "code",
      "execution_count": null,
      "metadata": {
        "id": "D5G3JJ34REnu"
      },
      "outputs": [],
      "source": [
        "#ウィンドウの設定\n",
        "screen_width = 600\n",
        "screen_height = 600\n",
        "\n",
        "#FPSの設定\n",
        "FPS = 60\n",
        "\n",
        "#色の設定\n",
        "BLACK = (0, 0, 0)\n",
        "YELLOW = (255, 255, 0)\n",
        "RED = (255, 0, 0)\n",
        "GREEN = (0, 255, 0)\n",
        "BLUE = (0, 0, 255)"
      ]
    }
  ]
}