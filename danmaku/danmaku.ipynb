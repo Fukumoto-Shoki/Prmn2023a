{
  "nbformat": 4,
  "nbformat_minor": 0,
  "metadata": {
    "colab": {
      "provenance": [],
      "authorship_tag": "ABX9TyOF7XSDUum9Ul2qt4QWWE1J",
      "include_colab_link": true
    },
    "kernelspec": {
      "name": "python3",
      "display_name": "Python 3"
    },
    "language_info": {
      "name": "python"
    }
  },
  "cells": [
    {
      "cell_type": "markdown",
      "metadata": {
        "id": "view-in-github",
        "colab_type": "text"
      },
      "source": [
        "<a href=\"https://colab.research.google.com/github/Fukumoto-Shoki/Prmn2023a/blob/main/danmaku/danmaku.ipynb\" target=\"_parent\"><img src=\"https://colab.research.google.com/assets/colab-badge.svg\" alt=\"Open In Colab\"/></a>"
      ]
    },
    {
      "cell_type": "code",
      "execution_count": null,
      "metadata": {
        "id": "45Vw81pHOs71"
      },
      "outputs": [],
      "source": [
        "import pygame\n",
        "from setting import *\n",
        "from game import Game\n",
        "\n",
        "pygame.init()\n",
        "\n",
        "#ウィンドウ作成\n",
        "screen = pygame.display.set_mode((screen_width, screen_height))\n",
        "pygame.display.set_caption('弾幕ゲーム')\n",
        "\n",
        "#FPSの設定\n",
        "clock = pygame.time.Clock()\n",
        "\n",
        "#ゲームの設定\n",
        "game = Game()\n",
        "\n",
        "#メインループ\n",
        "run = True\n",
        "while run:\n",
        "\n",
        "    #背景の塗りつぶし\n",
        "    screen.fill(BLACK)\n",
        "\n",
        "    #ゲームの実行\n",
        "    game.run()\n",
        "\n",
        "    #イベントの取得\n",
        "    for event in pygame.event.get():\n",
        "        if event.type == pygame.QUIT:\n",
        "            run = False\n",
        "\n",
        "\n",
        "    #更新\n",
        "    pygame.display.update()\n",
        "    clock.tick(FPS)\n",
        "\n",
        "pygame.quit()"
      ]
    }
  ]
}